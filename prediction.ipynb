{
 "cells": [
  {
   "cell_type": "code",
   "execution_count": 10,
   "metadata": {},
   "outputs": [],
   "source": [
    "import numpy as np\n",
    "import tensorflow as tf\n",
    "from tensorflow.keras.datasets import imdb\n",
    "from tensorflow.keras.preprocessing import sequence\n",
    "from tensorflow.keras.models import load_model"
   ]
  },
  {
   "cell_type": "code",
   "execution_count": 11,
   "metadata": {},
   "outputs": [],
   "source": [
    "# Load the IMDB dataset word index\n",
    "\n",
    "word_index = imdb.get_word_index()\n",
    "reverse_word_index = {value:key for key, value in word_index.items()}\n"
   ]
  },
  {
   "cell_type": "code",
   "execution_count": 12,
   "metadata": {},
   "outputs": [
    {
     "name": "stderr",
     "output_type": "stream",
     "text": [
      "WARNING:absl:Compiled the loaded model, but the compiled metrics have yet to be built. `model.compile_metrics` will be empty until you train or evaluate the model.\n"
     ]
    },
    {
     "data": {
      "text/html": [
       "<pre style=\"white-space:pre;overflow-x:auto;line-height:normal;font-family:Menlo,'DejaVu Sans Mono',consolas,'Courier New',monospace\"><span style=\"font-weight: bold\">Model: \"sequential_1\"</span>\n",
       "</pre>\n"
      ],
      "text/plain": [
       "\u001b[1mModel: \"sequential_1\"\u001b[0m\n"
      ]
     },
     "metadata": {},
     "output_type": "display_data"
    },
    {
     "data": {
      "text/html": [
       "<pre style=\"white-space:pre;overflow-x:auto;line-height:normal;font-family:Menlo,'DejaVu Sans Mono',consolas,'Courier New',monospace\">┏━━━━━━━━━━━━━━━━━━━━━━━━━━━━━━━━━┳━━━━━━━━━━━━━━━━━━━━━━━━┳━━━━━━━━━━━━━━━┓\n",
       "┃<span style=\"font-weight: bold\"> Layer (type)                    </span>┃<span style=\"font-weight: bold\"> Output Shape           </span>┃<span style=\"font-weight: bold\">       Param # </span>┃\n",
       "┡━━━━━━━━━━━━━━━━━━━━━━━━━━━━━━━━━╇━━━━━━━━━━━━━━━━━━━━━━━━╇━━━━━━━━━━━━━━━┩\n",
       "│ embedding_1 (<span style=\"color: #0087ff; text-decoration-color: #0087ff\">Embedding</span>)         │ (<span style=\"color: #00af00; text-decoration-color: #00af00\">32</span>, <span style=\"color: #00af00; text-decoration-color: #00af00\">500</span>, <span style=\"color: #00af00; text-decoration-color: #00af00\">128</span>)         │     <span style=\"color: #00af00; text-decoration-color: #00af00\">1,280,000</span> │\n",
       "├─────────────────────────────────┼────────────────────────┼───────────────┤\n",
       "│ simple_rnn_1 (<span style=\"color: #0087ff; text-decoration-color: #0087ff\">SimpleRNN</span>)        │ (<span style=\"color: #00af00; text-decoration-color: #00af00\">32</span>, <span style=\"color: #00af00; text-decoration-color: #00af00\">128</span>)              │        <span style=\"color: #00af00; text-decoration-color: #00af00\">32,896</span> │\n",
       "├─────────────────────────────────┼────────────────────────┼───────────────┤\n",
       "│ dense_1 (<span style=\"color: #0087ff; text-decoration-color: #0087ff\">Dense</span>)                 │ (<span style=\"color: #00af00; text-decoration-color: #00af00\">32</span>, <span style=\"color: #00af00; text-decoration-color: #00af00\">1</span>)                │           <span style=\"color: #00af00; text-decoration-color: #00af00\">129</span> │\n",
       "└─────────────────────────────────┴────────────────────────┴───────────────┘\n",
       "</pre>\n"
      ],
      "text/plain": [
       "┏━━━━━━━━━━━━━━━━━━━━━━━━━━━━━━━━━┳━━━━━━━━━━━━━━━━━━━━━━━━┳━━━━━━━━━━━━━━━┓\n",
       "┃\u001b[1m \u001b[0m\u001b[1mLayer (type)                   \u001b[0m\u001b[1m \u001b[0m┃\u001b[1m \u001b[0m\u001b[1mOutput Shape          \u001b[0m\u001b[1m \u001b[0m┃\u001b[1m \u001b[0m\u001b[1m      Param #\u001b[0m\u001b[1m \u001b[0m┃\n",
       "┡━━━━━━━━━━━━━━━━━━━━━━━━━━━━━━━━━╇━━━━━━━━━━━━━━━━━━━━━━━━╇━━━━━━━━━━━━━━━┩\n",
       "│ embedding_1 (\u001b[38;5;33mEmbedding\u001b[0m)         │ (\u001b[38;5;34m32\u001b[0m, \u001b[38;5;34m500\u001b[0m, \u001b[38;5;34m128\u001b[0m)         │     \u001b[38;5;34m1,280,000\u001b[0m │\n",
       "├─────────────────────────────────┼────────────────────────┼───────────────┤\n",
       "│ simple_rnn_1 (\u001b[38;5;33mSimpleRNN\u001b[0m)        │ (\u001b[38;5;34m32\u001b[0m, \u001b[38;5;34m128\u001b[0m)              │        \u001b[38;5;34m32,896\u001b[0m │\n",
       "├─────────────────────────────────┼────────────────────────┼───────────────┤\n",
       "│ dense_1 (\u001b[38;5;33mDense\u001b[0m)                 │ (\u001b[38;5;34m32\u001b[0m, \u001b[38;5;34m1\u001b[0m)                │           \u001b[38;5;34m129\u001b[0m │\n",
       "└─────────────────────────────────┴────────────────────────┴───────────────┘\n"
      ]
     },
     "metadata": {},
     "output_type": "display_data"
    },
    {
     "data": {
      "text/html": [
       "<pre style=\"white-space:pre;overflow-x:auto;line-height:normal;font-family:Menlo,'DejaVu Sans Mono',consolas,'Courier New',monospace\"><span style=\"font-weight: bold\"> Total params: </span><span style=\"color: #00af00; text-decoration-color: #00af00\">1,313,027</span> (5.01 MB)\n",
       "</pre>\n"
      ],
      "text/plain": [
       "\u001b[1m Total params: \u001b[0m\u001b[38;5;34m1,313,027\u001b[0m (5.01 MB)\n"
      ]
     },
     "metadata": {},
     "output_type": "display_data"
    },
    {
     "data": {
      "text/html": [
       "<pre style=\"white-space:pre;overflow-x:auto;line-height:normal;font-family:Menlo,'DejaVu Sans Mono',consolas,'Courier New',monospace\"><span style=\"font-weight: bold\"> Trainable params: </span><span style=\"color: #00af00; text-decoration-color: #00af00\">1,313,025</span> (5.01 MB)\n",
       "</pre>\n"
      ],
      "text/plain": [
       "\u001b[1m Trainable params: \u001b[0m\u001b[38;5;34m1,313,025\u001b[0m (5.01 MB)\n"
      ]
     },
     "metadata": {},
     "output_type": "display_data"
    },
    {
     "data": {
      "text/html": [
       "<pre style=\"white-space:pre;overflow-x:auto;line-height:normal;font-family:Menlo,'DejaVu Sans Mono',consolas,'Courier New',monospace\"><span style=\"font-weight: bold\"> Non-trainable params: </span><span style=\"color: #00af00; text-decoration-color: #00af00\">0</span> (0.00 B)\n",
       "</pre>\n"
      ],
      "text/plain": [
       "\u001b[1m Non-trainable params: \u001b[0m\u001b[38;5;34m0\u001b[0m (0.00 B)\n"
      ]
     },
     "metadata": {},
     "output_type": "display_data"
    },
    {
     "data": {
      "text/html": [
       "<pre style=\"white-space:pre;overflow-x:auto;line-height:normal;font-family:Menlo,'DejaVu Sans Mono',consolas,'Courier New',monospace\"><span style=\"font-weight: bold\"> Optimizer params: </span><span style=\"color: #00af00; text-decoration-color: #00af00\">2</span> (12.00 B)\n",
       "</pre>\n"
      ],
      "text/plain": [
       "\u001b[1m Optimizer params: \u001b[0m\u001b[38;5;34m2\u001b[0m (12.00 B)\n"
      ]
     },
     "metadata": {},
     "output_type": "display_data"
    }
   ],
   "source": [
    "# Load the pre-trained model with Relu activation\n",
    "model = load_model('simple_rnn_imdb.h5')\n",
    "model.summary()"
   ]
  },
  {
   "cell_type": "code",
   "execution_count": 5,
   "metadata": {},
   "outputs": [
    {
     "data": {
      "text/plain": [
       "[array([[-0.5820004 , -0.13841876, -0.12031927, ...,  0.02539223,\n",
       "         -0.13263866,  0.12033844],\n",
       "        [-0.00090175, -0.00118033, -0.01097269, ..., -0.00947423,\n",
       "          0.03890965, -0.01898771],\n",
       "        [-0.02503482, -0.03694861,  0.00161246, ...,  0.05960322,\n",
       "         -0.08468581,  0.06938285],\n",
       "        ...,\n",
       "        [-0.00748874,  0.01379892, -0.00769253, ...,  0.03440396,\n",
       "          0.04485084, -0.00999557],\n",
       "        [-0.03124879, -0.02168559,  0.05270794, ...,  0.02711687,\n",
       "          0.02458315,  0.04560979],\n",
       "        [ 0.01366438,  0.04456499, -0.03981673, ..., -0.01589538,\n",
       "          0.08685718, -0.05474171]], dtype=float32),\n",
       " array([[ 0.02773139,  0.08276837,  0.05618189, ...,  0.14774215,\n",
       "          0.11283735, -0.10514361],\n",
       "        [ 0.07686344,  0.112959  , -0.0126294 , ...,  0.0144983 ,\n",
       "          0.13572976, -0.02969768],\n",
       "        [-0.14235109,  0.09558584, -0.06423218, ...,  0.12917921,\n",
       "         -0.00939469, -0.0288707 ],\n",
       "        ...,\n",
       "        [-0.07163445, -0.07077122, -0.16294694, ..., -0.15684345,\n",
       "         -0.1274747 ,  0.04724695],\n",
       "        [ 0.01531017,  0.20378403, -0.1342792 , ..., -0.07690283,\n",
       "         -0.02252172,  0.04495616],\n",
       "        [-0.05679603, -0.0004407 ,  0.13021888, ..., -0.00133157,\n",
       "          0.00371007, -0.13890739]], dtype=float32),\n",
       " array([[ 0.00893418, -0.0304039 , -0.01153609, ..., -0.0157092 ,\n",
       "         -0.0587662 , -0.13449574],\n",
       "        [-0.01835615,  0.03745832,  0.02718742, ...,  0.13266791,\n",
       "          0.02586125,  0.00178318],\n",
       "        [-0.14305685,  0.00237046,  0.05249543, ..., -0.19807804,\n",
       "          0.16184404, -0.10546326],\n",
       "        ...,\n",
       "        [-0.01097445, -0.05812225,  0.07078315, ..., -0.02961005,\n",
       "         -0.08272434, -0.02888034],\n",
       "        [ 0.04571298,  0.12328108,  0.0896709 , ..., -0.05451908,\n",
       "         -0.01926039,  0.07423273],\n",
       "        [-0.02564507, -0.01720233,  0.05070004, ..., -0.15251383,\n",
       "          0.06604282, -0.04042945]], dtype=float32),\n",
       " array([-0.03416118, -0.03492614, -0.01741879,  0.02718414, -0.00188549,\n",
       "         0.00430234, -0.04011885, -0.00501445,  0.004887  , -0.00112447,\n",
       "        -0.01503407, -0.00100742, -0.0470463 , -0.01140167, -0.03060222,\n",
       "        -0.01276734, -0.01270572, -0.00496603, -0.01715701, -0.0329688 ,\n",
       "        -0.03293738,  0.02962024, -0.02546075,  0.01779691,  0.00129431,\n",
       "        -0.01360504, -0.02581717, -0.03177336, -0.01920252,  0.00727981,\n",
       "        -0.00269873, -0.02098659,  0.01500091, -0.0159493 , -0.01065413,\n",
       "        -0.01549966, -0.02383757,  0.01025481,  0.02759763, -0.00876893,\n",
       "        -0.0191986 ,  0.01319581, -0.02255241, -0.02177758,  0.01093341,\n",
       "        -0.00996787,  0.01192901,  0.00666409,  0.02347815, -0.03585771,\n",
       "        -0.00970233, -0.02572373, -0.02777631,  0.02463849,  0.0220707 ,\n",
       "         0.00992919, -0.03255864, -0.01883236,  0.00855817,  0.02594932,\n",
       "        -0.02237611, -0.03044503,  0.01525602,  0.0166714 , -0.0276796 ,\n",
       "        -0.00328086, -0.02479422,  0.00981343,  0.00067486,  0.00515847,\n",
       "         0.0319404 , -0.00792947, -0.00219586, -0.03734534, -0.02529299,\n",
       "        -0.02760904,  0.00928388, -0.02217491, -0.00427064, -0.00500665,\n",
       "         0.0064107 , -0.05699932, -0.02404195,  0.02244732,  0.00312023,\n",
       "         0.00146216,  0.00750681,  0.03055486,  0.01646944,  0.00995841,\n",
       "         0.00996467, -0.01366417, -0.01358587,  0.01564757, -0.02688121,\n",
       "        -0.05769163,  0.00908065, -0.00786165,  0.00475068, -0.01809675,\n",
       "        -0.01986578, -0.00449652,  0.03176157,  0.00499316, -0.0384818 ,\n",
       "        -0.0097859 , -0.02140899, -0.02156072,  0.01878349,  0.0004341 ,\n",
       "        -0.00065956, -0.02583768, -0.01246421, -0.02138276,  0.0350148 ,\n",
       "         0.01571553, -0.00477325, -0.01822947, -0.03835127,  0.00720098,\n",
       "         0.00252509,  0.06025679,  0.02431142, -0.0290431 ,  0.00393155,\n",
       "        -0.00433263, -0.00993204, -0.00192395], dtype=float32),\n",
       " array([[-4.6095584e-02],\n",
       "        [ 1.8378425e-01],\n",
       "        [-2.2588255e-01],\n",
       "        [-6.7781277e-02],\n",
       "        [ 3.2755710e-02],\n",
       "        [-1.3971083e-01],\n",
       "        [-2.1939780e-01],\n",
       "        [ 1.6411929e-01],\n",
       "        [ 1.8273573e-01],\n",
       "        [ 2.6266240e-02],\n",
       "        [ 2.0737039e-01],\n",
       "        [ 2.2087446e-01],\n",
       "        [-2.1511938e-01],\n",
       "        [-9.3406081e-01],\n",
       "        [-2.5983614e-01],\n",
       "        [ 1.0257031e-01],\n",
       "        [-1.4860363e-01],\n",
       "        [-2.2462390e-01],\n",
       "        [-2.0758890e-01],\n",
       "        [-1.2687936e-02],\n",
       "        [-5.5612545e-02],\n",
       "        [-1.7935291e-01],\n",
       "        [ 1.2921924e-02],\n",
       "        [ 1.4954816e-01],\n",
       "        [ 1.4333090e-01],\n",
       "        [ 2.0126350e-01],\n",
       "        [ 1.3896690e-01],\n",
       "        [ 3.6881559e-02],\n",
       "        [-1.4931168e-01],\n",
       "        [ 7.6067471e-03],\n",
       "        [ 2.4771883e-01],\n",
       "        [-5.1581144e-01],\n",
       "        [ 7.3193084e-03],\n",
       "        [-2.3342976e-01],\n",
       "        [-3.3178039e-02],\n",
       "        [-2.0966485e-01],\n",
       "        [ 1.5689997e-01],\n",
       "        [-1.9384166e-02],\n",
       "        [ 1.8821499e-01],\n",
       "        [ 3.4865814e-01],\n",
       "        [ 1.3154551e-01],\n",
       "        [-2.2394353e-01],\n",
       "        [-4.5036074e-02],\n",
       "        [-1.9744527e-01],\n",
       "        [-9.0074785e-02],\n",
       "        [ 1.2920707e-01],\n",
       "        [-9.2118345e-02],\n",
       "        [-1.3255979e-01],\n",
       "        [-2.2300005e-01],\n",
       "        [-6.4833060e-02],\n",
       "        [ 1.0251100e-01],\n",
       "        [-5.7167625e-01],\n",
       "        [-5.1066007e-02],\n",
       "        [-1.7261586e-01],\n",
       "        [-2.5707269e-01],\n",
       "        [ 8.5851848e-02],\n",
       "        [ 1.3620509e-01],\n",
       "        [ 2.1123642e-01],\n",
       "        [ 2.3697190e-01],\n",
       "        [-2.3241944e-04],\n",
       "        [ 5.3743884e-02],\n",
       "        [-1.6259006e-01],\n",
       "        [ 1.6509327e-01],\n",
       "        [-1.8106155e-01],\n",
       "        [-9.5368668e-02],\n",
       "        [-4.6009716e-02],\n",
       "        [ 6.4447902e-02],\n",
       "        [ 1.3572045e-01],\n",
       "        [ 8.2719162e-02],\n",
       "        [ 2.0842844e-01],\n",
       "        [-1.9877811e-01],\n",
       "        [ 6.3793898e-02],\n",
       "        [ 5.0390135e-02],\n",
       "        [-2.1729182e-01],\n",
       "        [-1.4665024e-02],\n",
       "        [-6.8099928e-01],\n",
       "        [-8.3024196e-02],\n",
       "        [-2.8490821e-02],\n",
       "        [ 2.2424001e-01],\n",
       "        [ 7.4787393e-02],\n",
       "        [-1.8280566e-01],\n",
       "        [-7.7420756e-02],\n",
       "        [ 2.0351237e-01],\n",
       "        [-6.1422676e-02],\n",
       "        [ 1.3956524e-01],\n",
       "        [-9.2701781e-01],\n",
       "        [-8.3509482e-02],\n",
       "        [-2.6180387e-01],\n",
       "        [-3.8677629e-02],\n",
       "        [ 8.1896889e-01],\n",
       "        [-3.2471451e-01],\n",
       "        [-5.0726693e-02],\n",
       "        [-6.5254256e-02],\n",
       "        [ 1.6104899e-01],\n",
       "        [-2.0533775e-01],\n",
       "        [-4.0239174e-02],\n",
       "        [ 2.3477668e-01],\n",
       "        [ 2.3212022e-01],\n",
       "        [ 2.4480941e-02],\n",
       "        [ 2.2419932e-01],\n",
       "        [ 1.7449966e-01],\n",
       "        [ 1.1436978e-01],\n",
       "        [-1.1922862e-01],\n",
       "        [-2.0128427e-01],\n",
       "        [-3.3811070e-02],\n",
       "        [-1.2579249e-01],\n",
       "        [ 9.7480319e-02],\n",
       "        [ 2.0442770e-01],\n",
       "        [-1.9995148e-01],\n",
       "        [ 1.4617617e-01],\n",
       "        [ 2.9003409e-01],\n",
       "        [-6.3652851e-02],\n",
       "        [ 1.4746711e-01],\n",
       "        [ 1.4957584e-01],\n",
       "        [-2.3948352e-01],\n",
       "        [ 2.5817165e-01],\n",
       "        [ 2.4091716e-01],\n",
       "        [ 1.4599670e-01],\n",
       "        [ 1.5822928e-01],\n",
       "        [ 1.4658232e-01],\n",
       "        [-5.9994828e-02],\n",
       "        [ 2.3108682e-01],\n",
       "        [-2.4732508e-01],\n",
       "        [-9.7266592e-02],\n",
       "        [ 1.8387067e-01],\n",
       "        [ 2.3450895e-01],\n",
       "        [ 2.3326224e-01],\n",
       "        [ 1.0312469e-01]], dtype=float32),\n",
       " array([0.18957603], dtype=float32)]"
      ]
     },
     "execution_count": 5,
     "metadata": {},
     "output_type": "execute_result"
    }
   ],
   "source": [
    "model.get_weights()"
   ]
  },
  {
   "cell_type": "code",
   "execution_count": 13,
   "metadata": {},
   "outputs": [],
   "source": [
    "# Step 2: helper Functions\n",
    "# Function to decode reviews\n",
    "def decode_review(encoded_review):\n",
    "    return ' '.join([reverse_word_index.get(i - 3,'?') for i in encoded_review])\n",
    "def preprocess_text(text):\n",
    "    words = text.lower().split()\n",
    "    encoded_review = [word_index.get(word,2) + 3 for word in words]\n",
    "    padded_review = sequence.pad_sequences([encoded_review], maxlen=500)\n",
    "    return padded_review"
   ]
  },
  {
   "cell_type": "code",
   "execution_count": 14,
   "metadata": {},
   "outputs": [],
   "source": [
    "# Prediction Function\n",
    "def predict_sentiment(review):\n",
    "    preprocessed_input=preprocess_text(review)\n",
    "\n",
    "    prediction = model.predict(preprocessed_input)\n",
    "\n",
    "    sentiment = 'Positive' if prediction[0][0] > 0.5 else 'Negative'\n",
    "\n",
    "    return sentiment, prediction[0][0]\n"
   ]
  },
  {
   "cell_type": "code",
   "execution_count": 9,
   "metadata": {},
   "outputs": [
    {
     "name": "stdout",
     "output_type": "stream",
     "text": [
      "\u001b[1m1/1\u001b[0m \u001b[32m━━━━━━━━━━━━━━━━━━━━\u001b[0m\u001b[37m\u001b[0m \u001b[1m0s\u001b[0m 25ms/step\n",
      "Review:This movie was fantastic! The acting was great and the plot was thriling.\n",
      "Sentiment:Negative\n",
      "Prediction Score:0.11243144422769547\n"
     ]
    }
   ],
   "source": [
    "# Step 4: user Input and Prediction\n",
    "# Example review for Prediction\n",
    "\n",
    "example_review = \"This movie was fantastic! The acting was great and the plot was thriling.\"\n",
    "\n",
    "sentiment,score = predict_sentiment(example_review)\n",
    "print(f'Review:{example_review}')\n",
    "print(f'Sentiment:{sentiment}')\n",
    "print(f'Prediction Score:{score}')"
   ]
  },
  {
   "cell_type": "code",
   "execution_count": null,
   "metadata": {},
   "outputs": [],
   "source": []
  },
  {
   "cell_type": "code",
   "execution_count": null,
   "metadata": {},
   "outputs": [],
   "source": []
  },
  {
   "cell_type": "code",
   "execution_count": null,
   "metadata": {},
   "outputs": [],
   "source": []
  },
  {
   "cell_type": "code",
   "execution_count": null,
   "metadata": {},
   "outputs": [],
   "source": []
  },
  {
   "cell_type": "code",
   "execution_count": null,
   "metadata": {},
   "outputs": [],
   "source": []
  },
  {
   "cell_type": "code",
   "execution_count": null,
   "metadata": {},
   "outputs": [],
   "source": []
  }
 ],
 "metadata": {
  "kernelspec": {
   "display_name": "Python 3",
   "language": "python",
   "name": "python3"
  },
  "language_info": {
   "codemirror_mode": {
    "name": "ipython",
    "version": 3
   },
   "file_extension": ".py",
   "mimetype": "text/x-python",
   "name": "python",
   "nbconvert_exporter": "python",
   "pygments_lexer": "ipython3",
   "version": "3.12.5"
  }
 },
 "nbformat": 4,
 "nbformat_minor": 2
}
